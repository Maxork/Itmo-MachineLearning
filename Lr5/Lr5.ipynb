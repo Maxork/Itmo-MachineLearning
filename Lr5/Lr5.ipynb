{
 "cells": [
  {
   "cell_type": "code",
   "execution_count": 14,
   "metadata": {},
   "outputs": [],
   "source": [
    "from sklearn.neighbors import KNeighborsClassifier \n",
    "from sklearn.discriminant_analysis import QuadraticDiscriminantAnalysis as QDA\n",
    "import numpy as np\n",
    "from sklearn.model_selection import cross_val_score\n",
    "import pandas as pd\n",
    "\n",
    "dataset = pd.read_csv('data_banknote_authentication.txt', header=None).values\n",
    "money_attr = dataset[:, :4]\n",
    "money_attr = money_attr.astype(np.float64)\n",
    "money_class = dataset[:, -1]\n",
    "money_class = money_class.astype(np.int, copy=False)\n",
    "\n",
    "kFold=cross_validation.KFold(n=len(money_attr),n_folds=5, random_state=8, shuffle = True)\n",
    "#Возьмем методы классификации  QDA и KNeighborsClassifier и посчитаем для них различные метрики \n",
    "qda=QDA()\n",
    "clf = KNeighborsClassifier(15)\n"
   ]
  },
  {
   "cell_type": "code",
   "execution_count": 15,
   "metadata": {},
   "outputs": [
    {
     "name": "stdout",
     "output_type": "stream",
     "text": [
      "Accuracy for KNeighbors: 0.999 (0.001)\n",
      "Accuracy for QDA: 0.985 (0.005)\n"
     ]
    }
   ],
   "source": [
    "#Точность классификации (Classification Accuracy)\n",
    "#metric Accuracy for KNeighborsClassifier and QDA\n",
    "scores = cross_val_score(clf, money_attr, money_class,  cv=kFold, scoring='accuracy')\n",
    "print(\"Accuracy for KNeighbors: %0.3f (%0.3f)\" % (scores.mean(), scores.std() ))\n",
    "scores = cross_val_score(qda, money_attr, money_class, cv=kFold, scoring='accuracy')\n",
    "print(\"Accuracy for QDA: %0.3f (%0.3f)\" % (scores.mean(), scores.std() ))\n"
   ]
  },
  {
   "cell_type": "code",
   "execution_count": 16,
   "metadata": {},
   "outputs": [
    {
     "name": "stdout",
     "output_type": "stream",
     "text": [
      "log_loss for KNeighbors: -0.008 (0.001)\n",
      "log_loss for QDA: -0.026 (0.004)\n"
     ]
    }
   ],
   "source": [
    "#Логарифм функции правдоподобия (Logarithmic Loss)\n",
    "#metric Logarithmic Loss for KNeighborsClassifier and QDA\n",
    "#Интересно что на моем датасете если в кросс валидации не указывать параметр shuffle = True, neg_log_loss \n",
    "#отказывается работать, так как по всей видимости тестовая выборка оказывается заполнена только 0\n",
    "scores = cross_val_score(clf,  money_attr, money_class, cv=kFold, scoring='neg_log_loss')\n",
    "print(\"log_loss for KNeighbors: %0.3f (%0.3f)\" % (scores.mean(), scores.std() ))\n",
    "\n",
    "scores = cross_val_score(qda, money_attr,money_class,  cv=kFold, scoring='neg_log_loss')\n",
    "print(\"log_loss for QDA: %0.3f (%0.3f)\" % (scores.mean(), scores.std() ))"
   ]
  },
  {
   "cell_type": "code",
   "execution_count": 17,
   "metadata": {},
   "outputs": [
    {
     "name": "stdout",
     "output_type": "stream",
     "text": [
      "auc for KNeighbors: 1.000 (0.000)\n",
      "auc for QDA: 1.000 (0.000)\n"
     ]
    }
   ],
   "source": [
    "#Область под кривой ошибок (Area Under ROC Curve)\n",
    "#metric ROC_auc for KNeighborsClassifier and QDA\n",
    "# То же самое что  присоходит с neg_log_loss, происходит и с метрикой ROC_auc, без параметра shuffle = True,\n",
    "#работать не будет, причина так же самая\n",
    "scores = cross_validation.cross_val_score(clf, money_attr, money_class, cv=kFold, scoring='roc_auc')\n",
    "print(\"auc for KNeighbors: %0.3f (%0.3f)\" % (scores.mean(), scores.std() ))\n",
    "\n",
    "scores = cross_validation.cross_val_score(qda, money_attr, money_class, cv=kFold, scoring='roc_auc')\n",
    "print(\"auc for QDA: %0.3f (%0.3f)\" % (scores.mean(), scores.std() ))\n"
   ]
  },
  {
   "cell_type": "code",
   "execution_count": 18,
   "metadata": {},
   "outputs": [
    {
     "name": "stdout",
     "output_type": "stream",
     "text": [
      "confusion matrix for QDA\n",
      "[[233   7]\n",
      " [  0 172]]\n",
      "confusion matrix for KNeighbors\n",
      "[[240   0]\n",
      " [  0 172]]\n"
     ]
    }
   ],
   "source": [
    "#Матрица неточностей (Confusion Matrix)\n",
    "#metric confusion matrix for KNeighborsClassifier and QDA\n",
    "from sklearn.metrics import confusion_matrix\n",
    "X_train, X_test, Y_train, Y_test = cross_validation.train_test_split(money_attr, money_class, test_size=0.3, random_state=7)\n",
    "\n",
    "\n",
    "qda.fit(X_train, Y_train)\n",
    "qda_predicted = qda.predict(X_test)\n",
    "qda_matrix = confusion_matrix(Y_test, qda_predicted)\n",
    "print(\"confusion matrix for QDA\")\n",
    "print(qda_matrix)\n",
    "\n",
    "clf.fit(X_train,Y_train)\n",
    "clf_predicted=clf.predict(X_test)\n",
    "clf_matrix=confusion_matrix(Y_test,clf_predicted)\n",
    "print(\"confusion matrix for KNeighbors\")\n",
    "print(clf_matrix)\n"
   ]
  },
  {
   "cell_type": "code",
   "execution_count": 20,
   "metadata": {},
   "outputs": [
    {
     "name": "stdout",
     "output_type": "stream",
     "text": [
      "classification report for QDA\n",
      "             precision    recall  f1-score   support\n",
      "\n",
      "          0       1.00      0.97      0.99       240\n",
      "          1       0.96      1.00      0.98       172\n",
      "\n",
      "avg / total       0.98      0.98      0.98       412\n",
      "\n",
      "classification report for KNeighbors\n",
      "             precision    recall  f1-score   support\n",
      "\n",
      "          0       1.00      1.00      1.00       240\n",
      "          1       1.00      1.00      1.00       172\n",
      "\n",
      "avg / total       1.00      1.00      1.00       412\n",
      "\n"
     ]
    }
   ],
   "source": [
    "#Отчет классификации (Classification Report)\n",
    "#metric classification report for KNeighborsClassifier and QDA\n",
    "from sklearn.metrics import classification_report\n",
    "qda_report=classification_report(Y_test,qda_predicted)\n",
    "print('classification report for QDA')\n",
    "print(qda_report)\n",
    "\n",
    "\n",
    "clf_report=classification_report(Y_test,clf_predicted)\n",
    "print('classification report for KNeighbors')\n",
    "print(clf_report)"
   ]
  },
  {
   "cell_type": "code",
   "execution_count": 21,
   "metadata": {},
   "outputs": [],
   "source": [
    "#Основываясь на полученных метриках можно сделать вывод что классификаторы вполне применимы \n",
    "#для даннного датасета, так как показывают высокую точность классификации на всех метриках."
   ]
  },
  {
   "cell_type": "code",
   "execution_count": null,
   "metadata": {},
   "outputs": [],
   "source": []
  }
 ],
 "metadata": {
  "kernelspec": {
   "display_name": "Python 3",
   "language": "python",
   "name": "python3"
  },
  "language_info": {
   "codemirror_mode": {
    "name": "ipython",
    "version": 3
   },
   "file_extension": ".py",
   "mimetype": "text/x-python",
   "name": "python",
   "nbconvert_exporter": "python",
   "pygments_lexer": "ipython3",
   "version": "3.6.3"
  }
 },
 "nbformat": 4,
 "nbformat_minor": 2
}
